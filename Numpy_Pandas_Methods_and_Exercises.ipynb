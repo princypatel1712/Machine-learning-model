{
  "cells": [
    {
      "cell_type": "markdown",
      "metadata": {
        "id": "view-in-github",
        "colab_type": "text"
      },
      "source": [
        "<a href=\"https://colab.research.google.com/github/princypatel1712/Machine-learning-model/blob/main/Numpy_Pandas_Methods_and_Exercises.ipynb\" target=\"_parent\"><img src=\"https://colab.research.google.com/assets/colab-badge.svg\" alt=\"Open In Colab\"/></a>"
      ]
    },
    {
      "cell_type": "markdown",
      "id": "d2d7d569",
      "metadata": {
        "id": "d2d7d569"
      },
      "source": [
        "# NumPy and Pandas Methods with Explanations"
      ]
    },
    {
      "cell_type": "code",
      "source": [
        "import numpy as np\n",
        "import pandas as pd"
      ],
      "metadata": {
        "id": "8BVrB0vMPRS-"
      },
      "id": "8BVrB0vMPRS-",
      "execution_count": null,
      "outputs": []
    },
    {
      "cell_type": "markdown",
      "id": "2edbc19e",
      "metadata": {
        "id": "2edbc19e"
      },
      "source": [
        "## NumPy Methods"
      ]
    },
    {
      "cell_type": "markdown",
      "id": "37e96038",
      "metadata": {
        "id": "37e96038"
      },
      "source": [
        "### np.array()\n",
        "Creates a NumPy array from a Python list or tuple."
      ]
    },
    {
      "cell_type": "code",
      "source": [
        "# Example 1: Simple array\n",
        "arr = np.array([1, 2, 3])\n",
        "print(arr)\n",
        "\n",
        "# Example 2: Multi-dimensional array\n",
        "arr2d = np.array([[1, 2], [3, 4]])\n",
        "print(arr2d)\n"
      ],
      "metadata": {
        "colab": {
          "base_uri": "https://localhost:8080/"
        },
        "id": "q3Y8NcgAL3cg",
        "outputId": "95ea0edc-39c1-428c-9e44-dea27ae91bb9"
      },
      "id": "q3Y8NcgAL3cg",
      "execution_count": null,
      "outputs": [
        {
          "output_type": "stream",
          "name": "stdout",
          "text": [
            "[1 2 3]\n",
            "[[1 2]\n",
            " [3 4]]\n"
          ]
        }
      ]
    },
    {
      "cell_type": "markdown",
      "id": "568f1417",
      "metadata": {
        "id": "568f1417"
      },
      "source": [
        "### np.zeros()\n",
        "Creates an array filled with zeros."
      ]
    },
    {
      "cell_type": "code",
      "source": [
        "# Example 1: 1D array\n",
        "zeros_1d = np.zeros(5)\n",
        "print(zeros_1d)\n",
        "\n",
        "# Example 2: 2D array\n",
        "zeros_2d = np.zeros((3, 4))\n",
        "print(zeros_2d)\n"
      ],
      "metadata": {
        "colab": {
          "base_uri": "https://localhost:8080/"
        },
        "id": "XcR82a_yL4te",
        "outputId": "b6e91ce9-554c-4cc5-ad6b-9a73dfa51d6d"
      },
      "id": "XcR82a_yL4te",
      "execution_count": null,
      "outputs": [
        {
          "output_type": "stream",
          "name": "stdout",
          "text": [
            "[0. 0. 0. 0. 0.]\n",
            "[[0. 0. 0. 0.]\n",
            " [0. 0. 0. 0.]\n",
            " [0. 0. 0. 0.]]\n"
          ]
        }
      ]
    },
    {
      "cell_type": "markdown",
      "id": "3cc47c95",
      "metadata": {
        "id": "3cc47c95"
      },
      "source": [
        "### np.ones()\n",
        "Creates an array filled with ones."
      ]
    },
    {
      "cell_type": "code",
      "source": [
        "# Example 1: 1D array\n",
        "ones_1d = np.ones(5)\n",
        "print(ones_1d)\n",
        "\n",
        "# Example 2: 2D array\n",
        "ones_2d = np.ones((2, 3))\n",
        "print(ones_2d)\n"
      ],
      "metadata": {
        "colab": {
          "base_uri": "https://localhost:8080/"
        },
        "id": "4AicHVoQL60-",
        "outputId": "4b76124a-7287-465b-b243-f7ed2e419621"
      },
      "id": "4AicHVoQL60-",
      "execution_count": null,
      "outputs": [
        {
          "output_type": "stream",
          "name": "stdout",
          "text": [
            "[1. 1. 1. 1. 1.]\n",
            "[[1. 1. 1.]\n",
            " [1. 1. 1.]]\n"
          ]
        }
      ]
    },
    {
      "cell_type": "markdown",
      "id": "0fe3f394",
      "metadata": {
        "id": "0fe3f394"
      },
      "source": [
        "### np.arange()\n",
        "Creates an array with evenly spaced values within a given range."
      ]
    },
    {
      "cell_type": "code",
      "source": [
        "# Example 1: Default step\n",
        "arr = np.arange(10)\n",
        "print(arr)\n",
        "\n",
        "# Example 2: Custom step\n",
        "arr_step = np.arange(0, 10, 2)\n",
        "print(arr_step)\n"
      ],
      "metadata": {
        "colab": {
          "base_uri": "https://localhost:8080/"
        },
        "id": "GwWkHMRnL9Vu",
        "outputId": "93bcb3ca-cbb1-4695-f7d3-6bad4dfcac0a"
      },
      "id": "GwWkHMRnL9Vu",
      "execution_count": null,
      "outputs": [
        {
          "output_type": "stream",
          "name": "stdout",
          "text": [
            "[0 1 2 3 4 5 6 7 8 9]\n",
            "[0 2 4 6 8]\n"
          ]
        }
      ]
    },
    {
      "cell_type": "markdown",
      "id": "7743e7ff",
      "metadata": {
        "id": "7743e7ff"
      },
      "source": [
        "### np.linspace()\n",
        "Creates an array with linearly spaced values between two bounds."
      ]
    },
    {
      "cell_type": "code",
      "source": [
        "# Example 1: 5 values between 0 and 1\n",
        "lin = np.linspace(0, 1, 5)\n",
        "print(lin)\n",
        "\n",
        "# Example 2: 10 values between -1 and 1\n",
        "lin_negative = np.linspace(-1, 1, 10)\n",
        "print(lin_negative)\n"
      ],
      "metadata": {
        "colab": {
          "base_uri": "https://localhost:8080/"
        },
        "id": "n_-B--sUL_Iu",
        "outputId": "3573b826-3528-45f0-d26f-708fe55e8f79"
      },
      "id": "n_-B--sUL_Iu",
      "execution_count": null,
      "outputs": [
        {
          "output_type": "stream",
          "name": "stdout",
          "text": [
            "[0.   0.25 0.5  0.75 1.  ]\n",
            "[-1.         -0.77777778 -0.55555556 -0.33333333 -0.11111111  0.11111111\n",
            "  0.33333333  0.55555556  0.77777778  1.        ]\n"
          ]
        }
      ]
    },
    {
      "cell_type": "markdown",
      "id": "6980339c",
      "metadata": {
        "id": "6980339c"
      },
      "source": [
        "### np.reshape()\n",
        "Changes the shape of an array without altering its data."
      ]
    },
    {
      "cell_type": "code",
      "source": [
        "# Example 1: Reshape 1D to 2D\n",
        "arr = np.arange(6).reshape((2, 3))\n",
        "print(arr)\n",
        "\n",
        "# Example 2: Reshape with -1\n",
        "arr2 = np.arange(12).reshape((3, -1))\n",
        "print(arr2)\n"
      ],
      "metadata": {
        "colab": {
          "base_uri": "https://localhost:8080/"
        },
        "id": "qIEfQhaSMCz-",
        "outputId": "12b85702-7c12-4e59-9b56-8bb5761b3013"
      },
      "id": "qIEfQhaSMCz-",
      "execution_count": null,
      "outputs": [
        {
          "output_type": "stream",
          "name": "stdout",
          "text": [
            "[[0 1 2]\n",
            " [3 4 5]]\n",
            "[[ 0  1  2  3]\n",
            " [ 4  5  6  7]\n",
            " [ 8  9 10 11]]\n"
          ]
        }
      ]
    },
    {
      "cell_type": "markdown",
      "id": "b3947721",
      "metadata": {
        "id": "b3947721"
      },
      "source": [
        "### np.transpose()\n",
        "Reverses or permutes the axes of an array."
      ]
    },
    {
      "cell_type": "code",
      "source": [
        "# Example 1: Transpose of a 2D array\n",
        "arr = np.array([[1, 2, 3], [4, 5, 6]])\n",
        "transposed = np.transpose(arr)\n",
        "print(transposed)\n",
        "\n",
        "# Example 2: Transpose of a 3D array\n",
        "arr_3d = np.arange(8).reshape(2, 2, 2)\n",
        "transposed_3d = np.transpose(arr_3d, axes=(1, 0, 2))\n",
        "print(transposed_3d)\n"
      ],
      "metadata": {
        "colab": {
          "base_uri": "https://localhost:8080/"
        },
        "id": "T8RnYpZNOR8k",
        "outputId": "9cd57080-b2ab-4b86-a6ab-8d426a8ebf2e"
      },
      "id": "T8RnYpZNOR8k",
      "execution_count": null,
      "outputs": [
        {
          "output_type": "stream",
          "name": "stdout",
          "text": [
            "[[1 4]\n",
            " [2 5]\n",
            " [3 6]]\n",
            "[[[0 1]\n",
            "  [4 5]]\n",
            "\n",
            " [[2 3]\n",
            "  [6 7]]]\n"
          ]
        }
      ]
    },
    {
      "cell_type": "markdown",
      "id": "0d0124c8",
      "metadata": {
        "id": "0d0124c8"
      },
      "source": [
        "### np.dot()\n",
        "Performs dot product of two arrays."
      ]
    },
    {
      "cell_type": "code",
      "source": [
        "# Example 1: Dot product of 1D arrays\n",
        "a = np.array([1, 2])\n",
        "b = np.array([3, 4])\n",
        "result = np.dot(a, b)  # (1*3 + 2*4)\n",
        "print(result)\n",
        "\n",
        "# Example 2: Dot product of 2D arrays\n",
        "a = np.array([[1, 2], [3, 4]])\n",
        "b = np.array([[5, 6], [7, 8]])\n",
        "result = np.dot(a, b)\n",
        "print(result)\n"
      ],
      "metadata": {
        "colab": {
          "base_uri": "https://localhost:8080/"
        },
        "id": "IgSv_iXwOQcF",
        "outputId": "b7e2553d-3804-4f4c-e566-b8c214af1e0a"
      },
      "id": "IgSv_iXwOQcF",
      "execution_count": null,
      "outputs": [
        {
          "output_type": "stream",
          "name": "stdout",
          "text": [
            "11\n",
            "[[19 22]\n",
            " [43 50]]\n"
          ]
        }
      ]
    },
    {
      "cell_type": "markdown",
      "id": "7ebcaa54",
      "metadata": {
        "id": "7ebcaa54"
      },
      "source": [
        "### np.sum()\n",
        "Calculates the sum of array elements over a specified axis."
      ]
    },
    {
      "cell_type": "code",
      "source": [
        "# Example 1: Sum of 1D array\n",
        "arr = np.array([1, 2, 3])\n",
        "print(np.sum(arr))\n",
        "\n",
        "# Example 2: Sum of 2D array\n",
        "arr2d = np.array([[1, 2], [3, 4]])\n",
        "print(np.sum(arr2d, axis=0))  # Column-wise sum\n"
      ],
      "metadata": {
        "colab": {
          "base_uri": "https://localhost:8080/"
        },
        "id": "3HqA6Y37MHAW",
        "outputId": "09fadc91-af2e-4b10-9772-d568162f7b57"
      },
      "id": "3HqA6Y37MHAW",
      "execution_count": null,
      "outputs": [
        {
          "output_type": "stream",
          "name": "stdout",
          "text": [
            "6\n",
            "[4 6]\n"
          ]
        }
      ]
    },
    {
      "cell_type": "markdown",
      "id": "be382117",
      "metadata": {
        "id": "be382117"
      },
      "source": [
        "### np.mean()\n",
        "Computes the mean of the array elements."
      ]
    },
    {
      "cell_type": "code",
      "source": [
        "# Example 1: Mean of 1D array\n",
        "arr = np.array([1, 2, 3, 4])\n",
        "print(np.mean(arr))\n",
        "\n",
        "# Example 2: Mean along axis\n",
        "arr2d = np.array([[1, 2], [3, 4]])\n",
        "print(np.mean(arr2d, axis=1))  # Row-wise mean\n"
      ],
      "metadata": {
        "colab": {
          "base_uri": "https://localhost:8080/"
        },
        "id": "FHla1L5NMIY1",
        "outputId": "aa8c7557-0e02-4036-892d-7e25b94c82d5"
      },
      "id": "FHla1L5NMIY1",
      "execution_count": null,
      "outputs": [
        {
          "output_type": "stream",
          "name": "stdout",
          "text": [
            "2.5\n",
            "[1.5 3.5]\n"
          ]
        }
      ]
    },
    {
      "cell_type": "markdown",
      "id": "52daf4c4",
      "metadata": {
        "id": "52daf4c4"
      },
      "source": [
        "### np.std()\n",
        "Computes the standard deviation of the array elements."
      ]
    },
    {
      "cell_type": "code",
      "source": [
        "# Example 1: Std of 1D array\n",
        "arr = np.array([1, 2, 3, 4])\n",
        "print(np.std(arr))\n",
        "\n",
        "# Example 2: Std along axis\n",
        "arr2d = np.array([[1, 2], [3, 4]])\n",
        "print(np.std(arr2d, axis=0))  # Column-wise std\n"
      ],
      "metadata": {
        "colab": {
          "base_uri": "https://localhost:8080/"
        },
        "id": "37yrTQTrMJoN",
        "outputId": "78a10ba1-d801-4978-eca5-6fcf1aeacb29"
      },
      "id": "37yrTQTrMJoN",
      "execution_count": null,
      "outputs": [
        {
          "output_type": "stream",
          "name": "stdout",
          "text": [
            "1.118033988749895\n",
            "[1. 1.]\n"
          ]
        }
      ]
    },
    {
      "cell_type": "markdown",
      "id": "3ab07890",
      "metadata": {
        "id": "3ab07890"
      },
      "source": [
        "### np.min()\n",
        "Finds the minimum value in the array."
      ]
    },
    {
      "cell_type": "code",
      "source": [
        "# Example 1: Minimum in a 1D array\n",
        "arr = np.array([3, 1, 4, 2])\n",
        "print(np.min(arr))\n",
        "\n",
        "# Example 2: Minimum along an axis\n",
        "arr_2d = np.array([[3, 1], [5, 2]])\n",
        "print(np.min(arr_2d, axis=1))  # Row-wise minimum\n"
      ],
      "metadata": {
        "colab": {
          "base_uri": "https://localhost:8080/"
        },
        "id": "K_1XU-KUOTqO",
        "outputId": "a3f2cbe6-cdaa-4c50-88cd-6ab76b574628"
      },
      "id": "K_1XU-KUOTqO",
      "execution_count": null,
      "outputs": [
        {
          "output_type": "stream",
          "name": "stdout",
          "text": [
            "1\n",
            "[1 2]\n"
          ]
        }
      ]
    },
    {
      "cell_type": "markdown",
      "id": "7e0ee44c",
      "metadata": {
        "id": "7e0ee44c"
      },
      "source": [
        "### np.max()\n",
        "Finds the maximum value in the array."
      ]
    },
    {
      "cell_type": "code",
      "source": [
        "# Example 1: Maximum in a 1D array\n",
        "arr = np.array([3, 1, 4, 2])\n",
        "print(np.max(arr))\n",
        "\n",
        "# Example 2: Maximum along an axis\n",
        "arr_2d = np.array([[3, 1], [5, 2]])\n",
        "print(np.max(arr_2d, axis=0))  # Column-wise maximum\n"
      ],
      "metadata": {
        "colab": {
          "base_uri": "https://localhost:8080/"
        },
        "id": "LRZY6KOeOVaV",
        "outputId": "b23401aa-1fd3-4f7c-eab3-56f1a0b96d5b"
      },
      "id": "LRZY6KOeOVaV",
      "execution_count": null,
      "outputs": [
        {
          "output_type": "stream",
          "name": "stdout",
          "text": [
            "4\n",
            "[5 2]\n"
          ]
        }
      ]
    },
    {
      "cell_type": "markdown",
      "id": "3e09509e",
      "metadata": {
        "id": "3e09509e"
      },
      "source": [
        "### np.argmax()\n",
        "Returns the indices of the maximum values along an axis."
      ]
    },
    {
      "cell_type": "code",
      "source": [
        "# Example 1: Index of max value in 1D array\n",
        "arr = np.array([3, 1, 4, 2])\n",
        "print(np.argmax(arr))\n",
        "\n",
        "# Example 2: Index of max value along an axis\n",
        "arr_2d = np.array([[3, 1], [5, 2]])\n",
        "print(np.argmax(arr_2d, axis=0))  # Column-wise index of max values\n"
      ],
      "metadata": {
        "colab": {
          "base_uri": "https://localhost:8080/"
        },
        "id": "RIi3-_LEOXRd",
        "outputId": "6b0ce161-0ab9-4387-b75d-1da88f345f4a"
      },
      "id": "RIi3-_LEOXRd",
      "execution_count": null,
      "outputs": [
        {
          "output_type": "stream",
          "name": "stdout",
          "text": [
            "2\n",
            "[1 1]\n"
          ]
        }
      ]
    },
    {
      "cell_type": "markdown",
      "id": "ca65de15",
      "metadata": {
        "id": "ca65de15"
      },
      "source": [
        "### np.where()\n",
        "Returns elements chosen from two arrays depending on a condition."
      ]
    },
    {
      "cell_type": "code",
      "source": [
        "# Example 1: Find indices of elements greater than a threshold\n",
        "arr = np.array([1, 2, 3, 4])\n",
        "indices = np.where(arr > 2)\n",
        "print(indices)\n",
        "\n",
        "# Example 2: Replace values based on a condition\n",
        "arr = np.array([1, 2, 3, 4])\n",
        "new_arr = np.where(arr > 2, 100, arr)\n",
        "print(new_arr)\n"
      ],
      "metadata": {
        "colab": {
          "base_uri": "https://localhost:8080/"
        },
        "id": "GM6D82LhOYj1",
        "outputId": "3f230f12-a436-4905-c9c7-c355b7dda028"
      },
      "id": "GM6D82LhOYj1",
      "execution_count": null,
      "outputs": [
        {
          "output_type": "stream",
          "name": "stdout",
          "text": [
            "(array([2, 3]),)\n",
            "[  1   2 100 100]\n"
          ]
        }
      ]
    },
    {
      "cell_type": "markdown",
      "id": "94cee21f",
      "metadata": {
        "id": "94cee21f"
      },
      "source": [
        "## Pandas Methods"
      ]
    },
    {
      "cell_type": "markdown",
      "id": "6489fbf4",
      "metadata": {
        "id": "6489fbf4"
      },
      "source": [
        "### .read_csv()\n",
        "Reads a CSV file into a DataFrame."
      ]
    },
    {
      "cell_type": "code",
      "source": [
        "# Example 1: Load a CSV file\n",
        "df = pd.read_csv('data.csv')\n",
        "print(df.head())\n",
        "\n",
        "# Example 2: Load with specific columns\n",
        "df = pd.read_csv('data.csv', usecols=['Column1', 'Column2'])\n",
        "print(df)\n"
      ],
      "metadata": {
        "colab": {
          "base_uri": "https://localhost:8080/",
          "height": 356
        },
        "id": "NtWPsvb0OeXt",
        "outputId": "d0601fb2-25b8-4c8f-f835-347bf8e198ba"
      },
      "id": "NtWPsvb0OeXt",
      "execution_count": null,
      "outputs": [
        {
          "output_type": "error",
          "ename": "FileNotFoundError",
          "evalue": "[Errno 2] No such file or directory: 'data.csv'",
          "traceback": [
            "\u001b[0;31m---------------------------------------------------------------------------\u001b[0m",
            "\u001b[0;31mFileNotFoundError\u001b[0m                         Traceback (most recent call last)",
            "\u001b[0;32m<ipython-input-24-a9ee9666cb12>\u001b[0m in \u001b[0;36m<cell line: 2>\u001b[0;34m()\u001b[0m\n\u001b[1;32m      1\u001b[0m \u001b[0;31m# Example 1: Load a CSV file\u001b[0m\u001b[0;34m\u001b[0m\u001b[0;34m\u001b[0m\u001b[0m\n\u001b[0;32m----> 2\u001b[0;31m \u001b[0mdf\u001b[0m \u001b[0;34m=\u001b[0m \u001b[0mpd\u001b[0m\u001b[0;34m.\u001b[0m\u001b[0mread_csv\u001b[0m\u001b[0;34m(\u001b[0m\u001b[0;34m'data.csv'\u001b[0m\u001b[0;34m)\u001b[0m\u001b[0;34m\u001b[0m\u001b[0;34m\u001b[0m\u001b[0m\n\u001b[0m\u001b[1;32m      3\u001b[0m \u001b[0mprint\u001b[0m\u001b[0;34m(\u001b[0m\u001b[0mdf\u001b[0m\u001b[0;34m.\u001b[0m\u001b[0mhead\u001b[0m\u001b[0;34m(\u001b[0m\u001b[0;34m)\u001b[0m\u001b[0;34m)\u001b[0m\u001b[0;34m\u001b[0m\u001b[0;34m\u001b[0m\u001b[0m\n\u001b[1;32m      4\u001b[0m \u001b[0;34m\u001b[0m\u001b[0m\n\u001b[1;32m      5\u001b[0m \u001b[0;31m# Example 2: Load with specific columns\u001b[0m\u001b[0;34m\u001b[0m\u001b[0;34m\u001b[0m\u001b[0m\n",
            "\u001b[0;32m/usr/local/lib/python3.10/dist-packages/pandas/io/parsers/readers.py\u001b[0m in \u001b[0;36mread_csv\u001b[0;34m(filepath_or_buffer, sep, delimiter, header, names, index_col, usecols, dtype, engine, converters, true_values, false_values, skipinitialspace, skiprows, skipfooter, nrows, na_values, keep_default_na, na_filter, verbose, skip_blank_lines, parse_dates, infer_datetime_format, keep_date_col, date_parser, date_format, dayfirst, cache_dates, iterator, chunksize, compression, thousands, decimal, lineterminator, quotechar, quoting, doublequote, escapechar, comment, encoding, encoding_errors, dialect, on_bad_lines, delim_whitespace, low_memory, memory_map, float_precision, storage_options, dtype_backend)\u001b[0m\n\u001b[1;32m   1024\u001b[0m     \u001b[0mkwds\u001b[0m\u001b[0;34m.\u001b[0m\u001b[0mupdate\u001b[0m\u001b[0;34m(\u001b[0m\u001b[0mkwds_defaults\u001b[0m\u001b[0;34m)\u001b[0m\u001b[0;34m\u001b[0m\u001b[0;34m\u001b[0m\u001b[0m\n\u001b[1;32m   1025\u001b[0m \u001b[0;34m\u001b[0m\u001b[0m\n\u001b[0;32m-> 1026\u001b[0;31m     \u001b[0;32mreturn\u001b[0m \u001b[0m_read\u001b[0m\u001b[0;34m(\u001b[0m\u001b[0mfilepath_or_buffer\u001b[0m\u001b[0;34m,\u001b[0m \u001b[0mkwds\u001b[0m\u001b[0;34m)\u001b[0m\u001b[0;34m\u001b[0m\u001b[0;34m\u001b[0m\u001b[0m\n\u001b[0m\u001b[1;32m   1027\u001b[0m \u001b[0;34m\u001b[0m\u001b[0m\n\u001b[1;32m   1028\u001b[0m \u001b[0;34m\u001b[0m\u001b[0m\n",
            "\u001b[0;32m/usr/local/lib/python3.10/dist-packages/pandas/io/parsers/readers.py\u001b[0m in \u001b[0;36m_read\u001b[0;34m(filepath_or_buffer, kwds)\u001b[0m\n\u001b[1;32m    618\u001b[0m \u001b[0;34m\u001b[0m\u001b[0m\n\u001b[1;32m    619\u001b[0m     \u001b[0;31m# Create the parser.\u001b[0m\u001b[0;34m\u001b[0m\u001b[0;34m\u001b[0m\u001b[0m\n\u001b[0;32m--> 620\u001b[0;31m     \u001b[0mparser\u001b[0m \u001b[0;34m=\u001b[0m \u001b[0mTextFileReader\u001b[0m\u001b[0;34m(\u001b[0m\u001b[0mfilepath_or_buffer\u001b[0m\u001b[0;34m,\u001b[0m \u001b[0;34m**\u001b[0m\u001b[0mkwds\u001b[0m\u001b[0;34m)\u001b[0m\u001b[0;34m\u001b[0m\u001b[0;34m\u001b[0m\u001b[0m\n\u001b[0m\u001b[1;32m    621\u001b[0m \u001b[0;34m\u001b[0m\u001b[0m\n\u001b[1;32m    622\u001b[0m     \u001b[0;32mif\u001b[0m \u001b[0mchunksize\u001b[0m \u001b[0;32mor\u001b[0m \u001b[0miterator\u001b[0m\u001b[0;34m:\u001b[0m\u001b[0;34m\u001b[0m\u001b[0;34m\u001b[0m\u001b[0m\n",
            "\u001b[0;32m/usr/local/lib/python3.10/dist-packages/pandas/io/parsers/readers.py\u001b[0m in \u001b[0;36m__init__\u001b[0;34m(self, f, engine, **kwds)\u001b[0m\n\u001b[1;32m   1618\u001b[0m \u001b[0;34m\u001b[0m\u001b[0m\n\u001b[1;32m   1619\u001b[0m         \u001b[0mself\u001b[0m\u001b[0;34m.\u001b[0m\u001b[0mhandles\u001b[0m\u001b[0;34m:\u001b[0m \u001b[0mIOHandles\u001b[0m \u001b[0;34m|\u001b[0m \u001b[0;32mNone\u001b[0m \u001b[0;34m=\u001b[0m \u001b[0;32mNone\u001b[0m\u001b[0;34m\u001b[0m\u001b[0;34m\u001b[0m\u001b[0m\n\u001b[0;32m-> 1620\u001b[0;31m         \u001b[0mself\u001b[0m\u001b[0;34m.\u001b[0m\u001b[0m_engine\u001b[0m \u001b[0;34m=\u001b[0m \u001b[0mself\u001b[0m\u001b[0;34m.\u001b[0m\u001b[0m_make_engine\u001b[0m\u001b[0;34m(\u001b[0m\u001b[0mf\u001b[0m\u001b[0;34m,\u001b[0m \u001b[0mself\u001b[0m\u001b[0;34m.\u001b[0m\u001b[0mengine\u001b[0m\u001b[0;34m)\u001b[0m\u001b[0;34m\u001b[0m\u001b[0;34m\u001b[0m\u001b[0m\n\u001b[0m\u001b[1;32m   1621\u001b[0m \u001b[0;34m\u001b[0m\u001b[0m\n\u001b[1;32m   1622\u001b[0m     \u001b[0;32mdef\u001b[0m \u001b[0mclose\u001b[0m\u001b[0;34m(\u001b[0m\u001b[0mself\u001b[0m\u001b[0;34m)\u001b[0m \u001b[0;34m->\u001b[0m \u001b[0;32mNone\u001b[0m\u001b[0;34m:\u001b[0m\u001b[0;34m\u001b[0m\u001b[0;34m\u001b[0m\u001b[0m\n",
            "\u001b[0;32m/usr/local/lib/python3.10/dist-packages/pandas/io/parsers/readers.py\u001b[0m in \u001b[0;36m_make_engine\u001b[0;34m(self, f, engine)\u001b[0m\n\u001b[1;32m   1878\u001b[0m                 \u001b[0;32mif\u001b[0m \u001b[0;34m\"b\"\u001b[0m \u001b[0;32mnot\u001b[0m \u001b[0;32min\u001b[0m \u001b[0mmode\u001b[0m\u001b[0;34m:\u001b[0m\u001b[0;34m\u001b[0m\u001b[0;34m\u001b[0m\u001b[0m\n\u001b[1;32m   1879\u001b[0m                     \u001b[0mmode\u001b[0m \u001b[0;34m+=\u001b[0m \u001b[0;34m\"b\"\u001b[0m\u001b[0;34m\u001b[0m\u001b[0;34m\u001b[0m\u001b[0m\n\u001b[0;32m-> 1880\u001b[0;31m             self.handles = get_handle(\n\u001b[0m\u001b[1;32m   1881\u001b[0m                 \u001b[0mf\u001b[0m\u001b[0;34m,\u001b[0m\u001b[0;34m\u001b[0m\u001b[0;34m\u001b[0m\u001b[0m\n\u001b[1;32m   1882\u001b[0m                 \u001b[0mmode\u001b[0m\u001b[0;34m,\u001b[0m\u001b[0;34m\u001b[0m\u001b[0;34m\u001b[0m\u001b[0m\n",
            "\u001b[0;32m/usr/local/lib/python3.10/dist-packages/pandas/io/common.py\u001b[0m in \u001b[0;36mget_handle\u001b[0;34m(path_or_buf, mode, encoding, compression, memory_map, is_text, errors, storage_options)\u001b[0m\n\u001b[1;32m    871\u001b[0m         \u001b[0;32mif\u001b[0m \u001b[0mioargs\u001b[0m\u001b[0;34m.\u001b[0m\u001b[0mencoding\u001b[0m \u001b[0;32mand\u001b[0m \u001b[0;34m\"b\"\u001b[0m \u001b[0;32mnot\u001b[0m \u001b[0;32min\u001b[0m \u001b[0mioargs\u001b[0m\u001b[0;34m.\u001b[0m\u001b[0mmode\u001b[0m\u001b[0;34m:\u001b[0m\u001b[0;34m\u001b[0m\u001b[0;34m\u001b[0m\u001b[0m\n\u001b[1;32m    872\u001b[0m             \u001b[0;31m# Encoding\u001b[0m\u001b[0;34m\u001b[0m\u001b[0;34m\u001b[0m\u001b[0m\n\u001b[0;32m--> 873\u001b[0;31m             handle = open(\n\u001b[0m\u001b[1;32m    874\u001b[0m                 \u001b[0mhandle\u001b[0m\u001b[0;34m,\u001b[0m\u001b[0;34m\u001b[0m\u001b[0;34m\u001b[0m\u001b[0m\n\u001b[1;32m    875\u001b[0m                 \u001b[0mioargs\u001b[0m\u001b[0;34m.\u001b[0m\u001b[0mmode\u001b[0m\u001b[0;34m,\u001b[0m\u001b[0;34m\u001b[0m\u001b[0;34m\u001b[0m\u001b[0m\n",
            "\u001b[0;31mFileNotFoundError\u001b[0m: [Errno 2] No such file or directory: 'data.csv'"
          ]
        }
      ]
    },
    {
      "cell_type": "markdown",
      "source": [
        "### .DataFrame()\n",
        "The DataFrame is a 2-dimensional, tabular data structure in pandas that is similar to a spreadsheet or SQL table. It has labeled axes (rows and columns).\n",
        "\n",
        "pd.DataFrame(data, index=None, columns=None, dtype=None)\n",
        "\n",
        "data: Data to create the DataFrame (e.g., dictionary, list of lists, NumPy array, etc.).\n",
        "index: Row labels.\n",
        "columns: Column labels."
      ],
      "metadata": {
        "id": "WWs7SfHVNAh9"
      },
      "id": "WWs7SfHVNAh9"
    },
    {
      "cell_type": "code",
      "source": [
        "# Example 1: From dictionary\n",
        "df = pd.DataFrame({'A': [1, 2], 'B': [3, 4]})\n",
        "print(df)\n",
        "\n",
        "# Example 2: From list\n",
        "df2 = pd.DataFrame([[1, 2], [3, 4]], columns=['A', 'B'])\n",
        "print(df2)\n"
      ],
      "metadata": {
        "colab": {
          "base_uri": "https://localhost:8080/"
        },
        "id": "oMvBvpoPM-BG",
        "outputId": "3d47c1d3-b929-4759-e6e3-c9fee5244085"
      },
      "id": "oMvBvpoPM-BG",
      "execution_count": null,
      "outputs": [
        {
          "output_type": "stream",
          "name": "stdout",
          "text": [
            "   A  B\n",
            "0  1  3\n",
            "1  2  4\n",
            "   A  B\n",
            "0  1  2\n",
            "1  3  4\n"
          ]
        }
      ]
    },
    {
      "cell_type": "markdown",
      "source": [
        "### .Series()\n",
        "The Series is a 1-dimensional labeled array capable of holding any data type. It can be thought of as a column in a DataFrame or a single array with row labels.\n",
        "\n",
        "Key Features:\n",
        "Data is stored in a single column.\n",
        "It has an associated index to access elements.\n",
        "Each element can be accessed using its position or index label."
      ],
      "metadata": {
        "id": "CkV8_zHYNGX-"
      },
      "id": "CkV8_zHYNGX-"
    },
    {
      "cell_type": "code",
      "source": [
        "# Example 1: From list\n",
        "s = pd.Series([1, 2, 3])\n",
        "print(s)\n",
        "\n",
        "# Example 2: From dictionary\n",
        "s2 = pd.Series({'a': 1, 'b': 2})\n",
        "print(s2)\n"
      ],
      "metadata": {
        "colab": {
          "base_uri": "https://localhost:8080/"
        },
        "id": "tWBMahKENG2G",
        "outputId": "e29d523d-6bab-4aab-f3d0-ea90fe5a3c42"
      },
      "id": "tWBMahKENG2G",
      "execution_count": null,
      "outputs": [
        {
          "output_type": "stream",
          "name": "stdout",
          "text": [
            "0    1\n",
            "1    2\n",
            "2    3\n",
            "dtype: int64\n",
            "a    1\n",
            "b    2\n",
            "dtype: int64\n"
          ]
        }
      ]
    },
    {
      "cell_type": "markdown",
      "id": "1c0ed2fa",
      "metadata": {
        "id": "1c0ed2fa"
      },
      "source": [
        "### .head()\n",
        "Returns the first n rows of the DataFrame."
      ]
    },
    {
      "cell_type": "code",
      "source": [
        "# Example 1: Default first 5 rows\n",
        "df = pd.DataFrame({'A': range(10)})\n",
        "print(df.head())\n",
        "\n",
        "# Example 2: Custom number of rows\n",
        "print(df.head(3))\n"
      ],
      "metadata": {
        "colab": {
          "base_uri": "https://localhost:8080/"
        },
        "id": "JEc9EzOwMZme",
        "outputId": "03d6e16c-b9b0-4c1f-cd14-108cef141968"
      },
      "id": "JEc9EzOwMZme",
      "execution_count": null,
      "outputs": [
        {
          "output_type": "stream",
          "name": "stdout",
          "text": [
            "   A\n",
            "0  0\n",
            "1  1\n",
            "2  2\n",
            "3  3\n",
            "4  4\n",
            "   A\n",
            "0  0\n",
            "1  1\n",
            "2  2\n"
          ]
        }
      ]
    },
    {
      "cell_type": "markdown",
      "id": "767c76bd",
      "metadata": {
        "id": "767c76bd"
      },
      "source": [
        "### .tail()\n",
        "Returns the last n rows of the DataFrame."
      ]
    },
    {
      "cell_type": "code",
      "source": [
        "# Example 1: Default last 5 rows\n",
        "print(df.tail())\n",
        "\n",
        "# Example 2: Custom number of rows\n",
        "print(df.tail(2))\n"
      ],
      "metadata": {
        "colab": {
          "base_uri": "https://localhost:8080/"
        },
        "id": "B4oUq6P0MbJm",
        "outputId": "05d83319-d9eb-4291-a52b-8d4438fa8243"
      },
      "id": "B4oUq6P0MbJm",
      "execution_count": null,
      "outputs": [
        {
          "output_type": "stream",
          "name": "stdout",
          "text": [
            "   A\n",
            "5  5\n",
            "6  6\n",
            "7  7\n",
            "8  8\n",
            "9  9\n",
            "   A\n",
            "8  8\n",
            "9  9\n"
          ]
        }
      ]
    },
    {
      "cell_type": "markdown",
      "id": "3f9fd8cb",
      "metadata": {
        "id": "3f9fd8cb"
      },
      "source": [
        "### .info()\n",
        "Provides a summary of the DataFrame."
      ]
    },
    {
      "cell_type": "code",
      "source": [
        "# Example 1: Basic info\n",
        "df = pd.DataFrame({'A': [1, 2], 'B': [3, 4]})\n",
        "print(df.info())\n",
        "\n",
        "# Example 2: Info with null values\n",
        "df = pd.DataFrame({'A': [1, None], 'B': [3, 4]})\n",
        "print(df.info())\n"
      ],
      "metadata": {
        "colab": {
          "base_uri": "https://localhost:8080/"
        },
        "id": "lvw_tuj-OjRW",
        "outputId": "b04ee7b3-4738-464f-f4b2-e4590014c7f4"
      },
      "id": "lvw_tuj-OjRW",
      "execution_count": null,
      "outputs": [
        {
          "output_type": "stream",
          "name": "stdout",
          "text": [
            "<class 'pandas.core.frame.DataFrame'>\n",
            "RangeIndex: 2 entries, 0 to 1\n",
            "Data columns (total 2 columns):\n",
            " #   Column  Non-Null Count  Dtype\n",
            "---  ------  --------------  -----\n",
            " 0   A       2 non-null      int64\n",
            " 1   B       2 non-null      int64\n",
            "dtypes: int64(2)\n",
            "memory usage: 160.0 bytes\n",
            "None\n",
            "<class 'pandas.core.frame.DataFrame'>\n",
            "RangeIndex: 2 entries, 0 to 1\n",
            "Data columns (total 2 columns):\n",
            " #   Column  Non-Null Count  Dtype  \n",
            "---  ------  --------------  -----  \n",
            " 0   A       1 non-null      float64\n",
            " 1   B       2 non-null      int64  \n",
            "dtypes: float64(1), int64(1)\n",
            "memory usage: 160.0 bytes\n",
            "None\n"
          ]
        }
      ]
    },
    {
      "cell_type": "markdown",
      "id": "802cbe5f",
      "metadata": {
        "id": "802cbe5f"
      },
      "source": [
        "### .describe()\n",
        "Generates descriptive statistics."
      ]
    },
    {
      "cell_type": "code",
      "source": [
        "# Example 1: Numerical summary\n",
        "print(df.describe())\n",
        "\n",
        "# Example 2: Include all data types\n",
        "print(df.describe(include='all'))\n"
      ],
      "metadata": {
        "colab": {
          "base_uri": "https://localhost:8080/"
        },
        "id": "yV7cd7dBMfZ2",
        "outputId": "68b13c3d-3371-4315-90c6-53e5b3047124"
      },
      "id": "yV7cd7dBMfZ2",
      "execution_count": null,
      "outputs": [
        {
          "output_type": "stream",
          "name": "stdout",
          "text": [
            "         A         B\n",
            "count  1.0  2.000000\n",
            "mean   1.0  3.500000\n",
            "std    NaN  0.707107\n",
            "min    1.0  3.000000\n",
            "25%    1.0  3.250000\n",
            "50%    1.0  3.500000\n",
            "75%    1.0  3.750000\n",
            "max    1.0  4.000000\n",
            "         A         B\n",
            "count  1.0  2.000000\n",
            "mean   1.0  3.500000\n",
            "std    NaN  0.707107\n",
            "min    1.0  3.000000\n",
            "25%    1.0  3.250000\n",
            "50%    1.0  3.500000\n",
            "75%    1.0  3.750000\n",
            "max    1.0  4.000000\n"
          ]
        }
      ]
    },
    {
      "cell_type": "markdown",
      "id": "d9fddfd0",
      "metadata": {
        "id": "d9fddfd0"
      },
      "source": [
        "### .shape\n",
        "Returns the dimensions of the DataFrame."
      ]
    },
    {
      "cell_type": "code",
      "source": [
        "# Example 1: Shape of a simple DataFrame\n",
        "df = pd.DataFrame({'A': [1, 2], 'B': [3, 4]})\n",
        "print(df.shape)\n",
        "\n",
        "# Example 2: Shape after filtering rows\n",
        "filtered_df = df[df['A'] > 1]\n",
        "print(filtered_df.shape)\n"
      ],
      "metadata": {
        "colab": {
          "base_uri": "https://localhost:8080/"
        },
        "id": "N6y_MHp2Ok5l",
        "outputId": "2abcd119-1698-4c96-ce4d-3986730ac125"
      },
      "id": "N6y_MHp2Ok5l",
      "execution_count": null,
      "outputs": [
        {
          "output_type": "stream",
          "name": "stdout",
          "text": [
            "(2, 2)\n",
            "(1, 2)\n"
          ]
        }
      ]
    },
    {
      "cell_type": "markdown",
      "id": "19a0b8a5",
      "metadata": {
        "id": "19a0b8a5"
      },
      "source": [
        "### .columns\n",
        "Returns the column labels of the DataFrame."
      ]
    },
    {
      "cell_type": "code",
      "source": [
        "# Example 1: Column names of a DataFrame\n",
        "df = pd.DataFrame({'A': [1, 2], 'B': [3, 4]})\n",
        "print(df.columns)\n",
        "\n",
        "# Example 2: Renaming columns\n",
        "df.columns = ['X', 'Y']\n",
        "print(df.columns)\n"
      ],
      "metadata": {
        "colab": {
          "base_uri": "https://localhost:8080/"
        },
        "id": "09PfnpI2Omxs",
        "outputId": "885694af-9925-4078-e866-04cb3b376cb4"
      },
      "id": "09PfnpI2Omxs",
      "execution_count": null,
      "outputs": [
        {
          "output_type": "stream",
          "name": "stdout",
          "text": [
            "Index(['A', 'B'], dtype='object')\n",
            "Index(['X', 'Y'], dtype='object')\n"
          ]
        }
      ]
    },
    {
      "cell_type": "markdown",
      "id": "75412599",
      "metadata": {
        "id": "75412599"
      },
      "source": [
        "### .iloc[]\n",
        "Accesses rows and columns by index positions."
      ]
    },
    {
      "cell_type": "code",
      "source": [
        "# Example 1: Selecting specific rows and columns\n",
        "df = pd.DataFrame({'A': [1, 2], 'B': [3, 4]})\n",
        "print(df.iloc[0, 1])  # Access element in 1st row, 2nd column\n",
        "\n",
        "# Example 2: Selecting slices\n",
        "print(df.iloc[:, 1])  # All rows, 2nd column\n"
      ],
      "metadata": {
        "colab": {
          "base_uri": "https://localhost:8080/"
        },
        "id": "usDJ9GDLOoTd",
        "outputId": "d7f2b2c1-1315-4852-b166-bd574c60c5e6"
      },
      "id": "usDJ9GDLOoTd",
      "execution_count": null,
      "outputs": [
        {
          "output_type": "stream",
          "name": "stdout",
          "text": [
            "3\n",
            "0    3\n",
            "1    4\n",
            "Name: B, dtype: int64\n"
          ]
        }
      ]
    },
    {
      "cell_type": "markdown",
      "id": "4deb4e45",
      "metadata": {
        "id": "4deb4e45"
      },
      "source": [
        "### .loc[]\n",
        "Accesses rows and columns by labels."
      ]
    },
    {
      "cell_type": "code",
      "source": [
        "# Example 1: Select by row and column labels\n",
        "df = pd.DataFrame({'A': [1, 2], 'B': [3, 4]}, index=['row1', 'row2'])\n",
        "print(df)\n",
        "print(df.loc['row1', 'B'])\n",
        "\n",
        "# Example 2: Select with slices\n",
        "print(df.loc[:, 'B'])\n"
      ],
      "metadata": {
        "colab": {
          "base_uri": "https://localhost:8080/"
        },
        "id": "RdKHJ55OOqC1",
        "outputId": "9f903d1e-eb23-445d-b56b-ab027367f794"
      },
      "id": "RdKHJ55OOqC1",
      "execution_count": null,
      "outputs": [
        {
          "output_type": "stream",
          "name": "stdout",
          "text": [
            "      A  B\n",
            "row1  1  3\n",
            "row2  2  4\n",
            "3\n",
            "row1    3\n",
            "row2    4\n",
            "Name: B, dtype: int64\n"
          ]
        }
      ]
    },
    {
      "cell_type": "markdown",
      "id": "cffbb7e5",
      "metadata": {
        "id": "cffbb7e5"
      },
      "source": [
        "### .drop()\n",
        "Removes specified rows or columns from the DataFrame."
      ]
    },
    {
      "cell_type": "code",
      "source": [
        "# Example 1: Drop a column\n",
        "df = pd.DataFrame({'A': [1, 2], 'B': [3, 4]})\n",
        "df_dropped = df.drop('A', axis=1)\n",
        "print(df_dropped)\n",
        "\n",
        "# Example 2: Drop a row\n",
        "df_dropped_row = df.drop(0, axis=0)\n",
        "print(df_dropped_row)\n"
      ],
      "metadata": {
        "colab": {
          "base_uri": "https://localhost:8080/"
        },
        "id": "FepgRJ6COsre",
        "outputId": "515b8757-f88c-43ef-84eb-b86aeca25306"
      },
      "id": "FepgRJ6COsre",
      "execution_count": null,
      "outputs": [
        {
          "output_type": "stream",
          "name": "stdout",
          "text": [
            "   B\n",
            "0  3\n",
            "1  4\n",
            "   A  B\n",
            "1  2  4\n"
          ]
        }
      ]
    },
    {
      "cell_type": "markdown",
      "id": "4675f2a9",
      "metadata": {
        "id": "4675f2a9"
      },
      "source": [
        "### .sort_values()\n",
        "Sorts the DataFrame by the values of a column."
      ]
    },
    {
      "cell_type": "code",
      "source": [
        "# Example 1: Sort by a column\n",
        "df = pd.DataFrame({'A': [3, 1, 2], 'B': [6, 4, 5]})\n",
        "sorted_df = df.sort_values(by='A')\n",
        "print(sorted_df)\n",
        "\n",
        "# Example 2: Sort descending\n",
        "sorted_desc = df.sort_values(by='A', ascending=False)\n",
        "print(sorted_desc)\n"
      ],
      "metadata": {
        "colab": {
          "base_uri": "https://localhost:8080/"
        },
        "id": "aS-pLThuOwLd",
        "outputId": "e1b50a8c-6753-4d77-9949-b299a9b48b8e"
      },
      "id": "aS-pLThuOwLd",
      "execution_count": null,
      "outputs": [
        {
          "output_type": "stream",
          "name": "stdout",
          "text": [
            "   A  B\n",
            "1  1  4\n",
            "2  2  5\n",
            "0  3  6\n",
            "   A  B\n",
            "0  3  6\n",
            "2  2  5\n",
            "1  1  4\n"
          ]
        }
      ]
    },
    {
      "cell_type": "markdown",
      "id": "283f9872",
      "metadata": {
        "id": "283f9872"
      },
      "source": [
        "### .groupby()\n",
        "Groups the DataFrame using a column or index."
      ]
    },
    {
      "cell_type": "code",
      "source": [
        "# Example 1: Group by column and calculate mean\n",
        "df = pd.DataFrame({'Category': ['A', 'A', 'B'], 'Values': [1, 2, 3]})\n",
        "grouped = df.groupby('Category').mean()\n",
        "print(grouped)\n",
        "\n",
        "# Example 2: Group by multiple columns\n",
        "df = pd.DataFrame({'Category': ['A', 'A', 'B'], 'Type': ['X', 'Y', 'X'], 'Values': [1, 2, 3]})\n",
        "grouped = df.groupby(['Category', 'Type']).sum()\n",
        "print(grouped)\n"
      ],
      "metadata": {
        "colab": {
          "base_uri": "https://localhost:8080/"
        },
        "id": "2_X_PSaxOxyO",
        "outputId": "87c53147-410b-4678-e5f6-993021fc3c57"
      },
      "id": "2_X_PSaxOxyO",
      "execution_count": null,
      "outputs": [
        {
          "output_type": "stream",
          "name": "stdout",
          "text": [
            "          Values\n",
            "Category        \n",
            "A            1.5\n",
            "B            3.0\n",
            "               Values\n",
            "Category Type        \n",
            "A        X          1\n",
            "         Y          2\n",
            "B        X          3\n"
          ]
        }
      ]
    },
    {
      "cell_type": "markdown",
      "id": "38a07d58",
      "metadata": {
        "id": "38a07d58"
      },
      "source": [
        "### .merge()\n",
        "Merges two DataFrames."
      ]
    },
    {
      "cell_type": "code",
      "source": [
        "# Example 1: Merge on a common column\n",
        "df1 = pd.DataFrame({'ID': [1, 2], 'Value1': [10, 20]})\n",
        "df2 = pd.DataFrame({'ID': [1, 2], 'Value2': [30, 40]})\n",
        "merged = pd.merge(df1, df2, on='ID')\n",
        "print(merged)\n",
        "\n",
        "# Example 2: Merge with different join types\n",
        "merged_left = pd.merge(df1, df2, on='ID', how='left')\n",
        "print(merged_left)\n"
      ],
      "metadata": {
        "colab": {
          "base_uri": "https://localhost:8080/"
        },
        "id": "yRUtql79OzpF",
        "outputId": "4e1468dc-3d55-478e-ade4-bbcf3068bda3"
      },
      "id": "yRUtql79OzpF",
      "execution_count": null,
      "outputs": [
        {
          "output_type": "stream",
          "name": "stdout",
          "text": [
            "   ID  Value1  Value2\n",
            "0   1      10      30\n",
            "1   2      20      40\n",
            "   ID  Value1  Value2\n",
            "0   1      10      30\n",
            "1   2      20      40\n"
          ]
        }
      ]
    },
    {
      "cell_type": "markdown",
      "id": "2d8a38e3",
      "metadata": {
        "id": "2d8a38e3"
      },
      "source": [
        "### .apply()\n",
        "Applies a function to rows or columns."
      ]
    },
    {
      "cell_type": "code",
      "source": [
        "# Example 1: Apply a lambda function\n",
        "df = pd.DataFrame({'A': [1, 2, 3]})\n",
        "df['Squared'] = df['A'].apply(lambda x: x**2)\n",
        "print(df)\n",
        "\n",
        "# Example 2: Apply a custom function\n",
        "def add_five(x):\n",
        "    return x + 5\n",
        "\n",
        "df['AddFive'] = df['A'].apply(add_five)\n",
        "print(df)\n"
      ],
      "metadata": {
        "colab": {
          "base_uri": "https://localhost:8080/"
        },
        "id": "LQnKCH7fO1Lu",
        "outputId": "8b719501-b059-4682-bfc3-727a4787106e"
      },
      "id": "LQnKCH7fO1Lu",
      "execution_count": null,
      "outputs": [
        {
          "output_type": "stream",
          "name": "stdout",
          "text": [
            "   A  Squared\n",
            "0  1        1\n",
            "1  2        4\n",
            "2  3        9\n",
            "   A  Squared  AddFive\n",
            "0  1        1        6\n",
            "1  2        4        7\n",
            "2  3        9        8\n"
          ]
        }
      ]
    },
    {
      "cell_type": "markdown",
      "id": "2d5f127d",
      "metadata": {
        "id": "2d5f127d"
      },
      "source": [
        "### .isnull()\n",
        "Checks for missing values in the DataFrame."
      ]
    },
    {
      "cell_type": "code",
      "source": [
        "# Example 1: Check for nulls\n",
        "df = pd.DataFrame({'A': [1, None, 3]})\n",
        "print(df.isnull())\n",
        "\n",
        "# Example 2: Count null values\n",
        "null_count = df.isnull().sum()\n",
        "print(null_count)\n"
      ],
      "metadata": {
        "colab": {
          "base_uri": "https://localhost:8080/"
        },
        "id": "tXWLoktHO22d",
        "outputId": "92a04238-d113-4305-cc26-1291df45c18b"
      },
      "id": "tXWLoktHO22d",
      "execution_count": null,
      "outputs": [
        {
          "output_type": "stream",
          "name": "stdout",
          "text": [
            "       A\n",
            "0  False\n",
            "1   True\n",
            "2  False\n",
            "A    1\n",
            "dtype: int64\n"
          ]
        }
      ]
    },
    {
      "cell_type": "markdown",
      "id": "ee2247c6",
      "metadata": {
        "id": "ee2247c6"
      },
      "source": [
        "# Exercises"
      ]
    },
    {
      "cell_type": "markdown",
      "id": "4ff492a1",
      "metadata": {
        "id": "4ff492a1"
      },
      "source": [
        "## NumPy Exercises"
      ]
    },
    {
      "cell_type": "markdown",
      "id": "62f5de4e",
      "metadata": {
        "id": "62f5de4e"
      },
      "source": [
        "1. Create a 3x3 NumPy array filled with random integers between 1 and 10."
      ]
    },
    {
      "cell_type": "markdown",
      "id": "72cfd4af",
      "metadata": {
        "id": "72cfd4af"
      },
      "source": [
        "2. Reshape a 1D array of 12 elements into a 2D array of shape (3, 4)."
      ]
    },
    {
      "cell_type": "markdown",
      "id": "310aee14",
      "metadata": {
        "id": "310aee14"
      },
      "source": [
        "3. Compute the mean, sum, and standard deviation of a given array."
      ]
    },
    {
      "cell_type": "markdown",
      "id": "613b137f",
      "metadata": {
        "id": "613b137f"
      },
      "source": [
        "4. Find the indices of all elements greater than 5 in a given array."
      ]
    },
    {
      "cell_type": "markdown",
      "id": "2916025c",
      "metadata": {
        "id": "2916025c"
      },
      "source": [
        "5. Perform matrix multiplication for two 2D arrays."
      ]
    },
    {
      "cell_type": "markdown",
      "id": "990c52ea",
      "metadata": {
        "id": "990c52ea"
      },
      "source": [
        "## Pandas Exercises"
      ]
    },
    {
      "cell_type": "markdown",
      "id": "c49bbb1f",
      "metadata": {
        "id": "c49bbb1f"
      },
      "source": [
        "1. Read a CSV file into a Pandas DataFrame and display its first 5 rows."
      ]
    },
    {
      "cell_type": "markdown",
      "id": "0fe5763f",
      "metadata": {
        "id": "0fe5763f"
      },
      "source": [
        "2. Sort the DataFrame by a specific column in descending order."
      ]
    },
    {
      "cell_type": "markdown",
      "id": "a58e4ddf",
      "metadata": {
        "id": "a58e4ddf"
      },
      "source": [
        "3. Group the DataFrame by a column and calculate the mean of each group."
      ]
    },
    {
      "cell_type": "markdown",
      "id": "21eae257",
      "metadata": {
        "id": "21eae257"
      },
      "source": [
        "4. Drop rows with missing values in a given DataFrame."
      ]
    },
    {
      "cell_type": "markdown",
      "id": "df5e7c5b",
      "metadata": {
        "id": "df5e7c5b"
      },
      "source": [
        "5. Merge two DataFrames on a common column."
      ]
    }
  ],
  "metadata": {
    "colab": {
      "provenance": [],
      "include_colab_link": true
    },
    "language_info": {
      "name": "python"
    },
    "kernelspec": {
      "name": "python3",
      "display_name": "Python 3"
    }
  },
  "nbformat": 4,
  "nbformat_minor": 5
}