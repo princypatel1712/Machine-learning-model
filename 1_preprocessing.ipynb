{
  "cells": [
    {
      "cell_type": "markdown",
      "metadata": {
        "id": "view-in-github",
        "colab_type": "text"
      },
      "source": [
        "<a href=\"https://colab.research.google.com/github/princypatel1712/Machine-learning-model/blob/main/1_preprocessing.ipynb\" target=\"_parent\"><img src=\"https://colab.research.google.com/assets/colab-badge.svg\" alt=\"Open In Colab\"/></a>"
      ]
    },
    {
      "cell_type": "code",
      "execution_count": null,
      "metadata": {
        "id": "-sf3UN6gthjF"
      },
      "outputs": [],
      "source": [
        "#importing libraries\n",
        "#load dataset\n",
        "#handling missing data\n",
        "#handling categorical data\n",
        "#split dataset into train and test\n",
        "#feature scaling\n"
      ]
    },
    {
      "cell_type": "code",
      "execution_count": null,
      "metadata": {
        "id": "x2eX1PAdthjM"
      },
      "outputs": [],
      "source": [
        "import pandas as pd #used for hadnling datasets\n",
        "import numpy as np #used for handling numbers\n",
        "from sklearn.impute import SimpleImputer\n",
        "from sklearn.preprocessing import LabelEncoder, OneHotEncoder\n",
        "from sklearn.compose import ColumnTransformer\n",
        "\n",
        "\n",
        "from sklearn.model_selection import train_test_split\n"
      ]
    },
    {
      "cell_type": "code",
      "execution_count": null,
      "metadata": {
        "id": "ZtUgXKfethjN",
        "outputId": "fd4eac79-e304-48fd-d0b3-233f417d7f7e"
      },
      "outputs": [
        {
          "data": {
            "text/html": [
              "<div>\n",
              "<style scoped>\n",
              "    .dataframe tbody tr th:only-of-type {\n",
              "        vertical-align: middle;\n",
              "    }\n",
              "\n",
              "    .dataframe tbody tr th {\n",
              "        vertical-align: top;\n",
              "    }\n",
              "\n",
              "    .dataframe thead th {\n",
              "        text-align: right;\n",
              "    }\n",
              "</style>\n",
              "<table border=\"1\" class=\"dataframe\">\n",
              "  <thead>\n",
              "    <tr style=\"text-align: right;\">\n",
              "      <th></th>\n",
              "      <th>Region</th>\n",
              "      <th>Age</th>\n",
              "      <th>Income</th>\n",
              "      <th>Online Shopper</th>\n",
              "    </tr>\n",
              "  </thead>\n",
              "  <tbody>\n",
              "    <tr>\n",
              "      <th>0</th>\n",
              "      <td>India</td>\n",
              "      <td>49.0</td>\n",
              "      <td>45000.0</td>\n",
              "      <td>Yes</td>\n",
              "    </tr>\n",
              "    <tr>\n",
              "      <th>1</th>\n",
              "      <td>Brazil</td>\n",
              "      <td>48.0</td>\n",
              "      <td>80000.0</td>\n",
              "      <td>No</td>\n",
              "    </tr>\n",
              "    <tr>\n",
              "      <th>2</th>\n",
              "      <td>USA</td>\n",
              "      <td>35.0</td>\n",
              "      <td>56600.0</td>\n",
              "      <td>Yes</td>\n",
              "    </tr>\n",
              "    <tr>\n",
              "      <th>3</th>\n",
              "      <td>India</td>\n",
              "      <td>30.0</td>\n",
              "      <td>NaN</td>\n",
              "      <td>No</td>\n",
              "    </tr>\n",
              "    <tr>\n",
              "      <th>4</th>\n",
              "      <td>USA</td>\n",
              "      <td>NaN</td>\n",
              "      <td>45120.0</td>\n",
              "      <td>Yes</td>\n",
              "    </tr>\n",
              "    <tr>\n",
              "      <th>5</th>\n",
              "      <td>Brazil</td>\n",
              "      <td>39.0</td>\n",
              "      <td>24570.0</td>\n",
              "      <td>No</td>\n",
              "    </tr>\n",
              "    <tr>\n",
              "      <th>6</th>\n",
              "      <td>India</td>\n",
              "      <td>46.0</td>\n",
              "      <td>59520.0</td>\n",
              "      <td>No</td>\n",
              "    </tr>\n",
              "    <tr>\n",
              "      <th>7</th>\n",
              "      <td>Brazil</td>\n",
              "      <td>50.0</td>\n",
              "      <td>53254.0</td>\n",
              "      <td>Yes</td>\n",
              "    </tr>\n",
              "    <tr>\n",
              "      <th>8</th>\n",
              "      <td>India</td>\n",
              "      <td>38.0</td>\n",
              "      <td>78546.0</td>\n",
              "      <td>Yes</td>\n",
              "    </tr>\n",
              "  </tbody>\n",
              "</table>\n",
              "</div>"
            ],
            "text/plain": [
              "   Region   Age   Income Online Shopper\n",
              "0   India  49.0  45000.0            Yes\n",
              "1  Brazil  48.0  80000.0             No\n",
              "2     USA  35.0  56600.0            Yes\n",
              "3   India  30.0      NaN             No\n",
              "4     USA   NaN  45120.0            Yes\n",
              "5  Brazil  39.0  24570.0             No\n",
              "6   India  46.0  59520.0             No\n",
              "7  Brazil  50.0  53254.0            Yes\n",
              "8   India  38.0  78546.0            Yes"
            ]
          },
          "execution_count": 2,
          "metadata": {},
          "output_type": "execute_result"
        }
      ],
      "source": [
        "df = pd.read_csv(\"dataset/first_sample.csv\")\n",
        "df"
      ]
    },
    {
      "cell_type": "code",
      "execution_count": null,
      "metadata": {
        "id": "Z1l1lW0nthjO",
        "outputId": "07b2f2b5-a39d-4751-d44f-0f1d0919c38d"
      },
      "outputs": [
        {
          "data": {
            "text/html": [
              "<div>\n",
              "<style scoped>\n",
              "    .dataframe tbody tr th:only-of-type {\n",
              "        vertical-align: middle;\n",
              "    }\n",
              "\n",
              "    .dataframe tbody tr th {\n",
              "        vertical-align: top;\n",
              "    }\n",
              "\n",
              "    .dataframe thead th {\n",
              "        text-align: right;\n",
              "    }\n",
              "</style>\n",
              "<table border=\"1\" class=\"dataframe\">\n",
              "  <thead>\n",
              "    <tr style=\"text-align: right;\">\n",
              "      <th></th>\n",
              "      <th>Region</th>\n",
              "      <th>Age</th>\n",
              "      <th>Income</th>\n",
              "      <th>Online Shopper</th>\n",
              "    </tr>\n",
              "  </thead>\n",
              "  <tbody>\n",
              "    <tr>\n",
              "      <th>0</th>\n",
              "      <td>India</td>\n",
              "      <td>49.000</td>\n",
              "      <td>45000.00</td>\n",
              "      <td>Yes</td>\n",
              "    </tr>\n",
              "    <tr>\n",
              "      <th>1</th>\n",
              "      <td>Brazil</td>\n",
              "      <td>48.000</td>\n",
              "      <td>80000.00</td>\n",
              "      <td>No</td>\n",
              "    </tr>\n",
              "    <tr>\n",
              "      <th>2</th>\n",
              "      <td>USA</td>\n",
              "      <td>35.000</td>\n",
              "      <td>56600.00</td>\n",
              "      <td>Yes</td>\n",
              "    </tr>\n",
              "    <tr>\n",
              "      <th>3</th>\n",
              "      <td>India</td>\n",
              "      <td>30.000</td>\n",
              "      <td>55326.25</td>\n",
              "      <td>No</td>\n",
              "    </tr>\n",
              "    <tr>\n",
              "      <th>4</th>\n",
              "      <td>USA</td>\n",
              "      <td>41.875</td>\n",
              "      <td>45120.00</td>\n",
              "      <td>Yes</td>\n",
              "    </tr>\n",
              "    <tr>\n",
              "      <th>5</th>\n",
              "      <td>Brazil</td>\n",
              "      <td>39.000</td>\n",
              "      <td>24570.00</td>\n",
              "      <td>No</td>\n",
              "    </tr>\n",
              "    <tr>\n",
              "      <th>6</th>\n",
              "      <td>India</td>\n",
              "      <td>46.000</td>\n",
              "      <td>59520.00</td>\n",
              "      <td>No</td>\n",
              "    </tr>\n",
              "    <tr>\n",
              "      <th>7</th>\n",
              "      <td>Brazil</td>\n",
              "      <td>50.000</td>\n",
              "      <td>53254.00</td>\n",
              "      <td>Yes</td>\n",
              "    </tr>\n",
              "    <tr>\n",
              "      <th>8</th>\n",
              "      <td>India</td>\n",
              "      <td>38.000</td>\n",
              "      <td>78546.00</td>\n",
              "      <td>Yes</td>\n",
              "    </tr>\n",
              "  </tbody>\n",
              "</table>\n",
              "</div>"
            ],
            "text/plain": [
              "   Region     Age    Income Online Shopper\n",
              "0   India  49.000  45000.00            Yes\n",
              "1  Brazil  48.000  80000.00             No\n",
              "2     USA  35.000  56600.00            Yes\n",
              "3   India  30.000  55326.25             No\n",
              "4     USA  41.875  45120.00            Yes\n",
              "5  Brazil  39.000  24570.00             No\n",
              "6   India  46.000  59520.00             No\n",
              "7  Brazil  50.000  53254.00            Yes\n",
              "8   India  38.000  78546.00            Yes"
            ]
          },
          "execution_count": 3,
          "metadata": {},
          "output_type": "execute_result"
        }
      ],
      "source": [
        "df.Age = df.Age.fillna(df.Age.mean())\n",
        "df.Income = df.Income.fillna(df.Income.mean())\n",
        "df"
      ]
    },
    {
      "cell_type": "code",
      "execution_count": null,
      "metadata": {
        "id": "RttqyYjgthjP",
        "outputId": "5f439834-293b-4a37-d49e-893f5494ef77"
      },
      "outputs": [
        {
          "name": "stdout",
          "output_type": "stream",
          "text": [
            "[['India' 49.0 45000.0]\n",
            " ['Brazil' 48.0 80000.0]\n",
            " ['USA' 35.0 56600.0]\n",
            " ['India' 30.0 55326.25]\n",
            " ['USA' 41.875 45120.0]\n",
            " ['Brazil' 39.0 24570.0]\n",
            " ['India' 46.0 59520.0]\n",
            " ['Brazil' 50.0 53254.0]\n",
            " ['India' 38.0 78546.0]]\n",
            "['Yes' 'No' 'Yes' 'No' 'Yes' 'No' 'No' 'Yes' 'Yes']\n"
          ]
        }
      ],
      "source": [
        "X = df.iloc[:,[0,1,2]].values #inde\n",
        "y = df.iloc[:,3].values #dep\n",
        "print(X)\n",
        "print(y)"
      ]
    },
    {
      "cell_type": "code",
      "execution_count": null,
      "metadata": {
        "id": "wdP2ECqKthjQ"
      },
      "outputs": [],
      "source": []
    },
    {
      "cell_type": "code",
      "execution_count": null,
      "metadata": {
        "id": "G7atLrBathjQ",
        "outputId": "af997b64-dbb0-47f0-90e6-71d3f7833a7b"
      },
      "outputs": [
        {
          "name": "stdout",
          "output_type": "stream",
          "text": [
            "[['India' 49.0 45000.0]\n",
            " ['Brazil' 48.0 80000.0]\n",
            " ['USA' 35.0 56600.0]\n",
            " ['India' 30.0 55326.25]\n",
            " ['USA' 41.875 45120.0]\n",
            " ['Brazil' 39.0 24570.0]\n",
            " ['India' 46.0 59520.0]\n",
            " ['Brazil' 50.0 53254.0]\n",
            " ['India' 38.0 78546.0]]\n"
          ]
        }
      ],
      "source": [
        "imputer = SimpleImputer(missing_values=np.nan,strategy=\"mean\")\n",
        "imputer.fit(X[:,1:3])\n",
        "X[:,1:3] = imputer.transform(X[:,1:3]) # load into the original values/DF\n",
        "print(X)\n",
        "\n"
      ]
    },
    {
      "cell_type": "code",
      "execution_count": null,
      "metadata": {
        "id": "DwjGdD0VthjR"
      },
      "outputs": [],
      "source": []
    },
    {
      "cell_type": "code",
      "execution_count": null,
      "metadata": {
        "id": "5CYtshdNthjS",
        "outputId": "1cff849d-f389-4997-be81-73d5b8f76adb"
      },
      "outputs": [
        {
          "name": "stdout",
          "output_type": "stream",
          "text": [
            "[[0.0 1.0 0.0 49.0 45000.0]\n",
            " [1.0 0.0 0.0 48.0 80000.0]\n",
            " [0.0 0.0 1.0 35.0 56600.0]\n",
            " [0.0 1.0 0.0 30.0 55326.25]\n",
            " [0.0 0.0 1.0 41.875 45120.0]\n",
            " [1.0 0.0 0.0 39.0 24570.0]\n",
            " [0.0 1.0 0.0 46.0 59520.0]\n",
            " [1.0 0.0 0.0 50.0 53254.0]\n",
            " [0.0 1.0 0.0 38.0 78546.0]]\n"
          ]
        }
      ],
      "source": [
        "ct = ColumnTransformer(transformers=[('encoder', OneHotEncoder(), [0])], remainder='passthrough')\n",
        "X = ct.fit_transform(X)\n",
        "X = np.array(X)\n",
        "print(X)"
      ]
    },
    {
      "cell_type": "code",
      "execution_count": null,
      "metadata": {
        "id": "Nx2UJXoathjS",
        "outputId": "55462b73-4495-4930-bdf4-53147f1b4b4a"
      },
      "outputs": [
        {
          "name": "stdout",
          "output_type": "stream",
          "text": [
            "[1 0 1 0 1 0 0 1 1]\n"
          ]
        }
      ],
      "source": [
        "le = LabelEncoder()\n",
        "y = le.fit_transform(y)\n",
        "print(y)"
      ]
    },
    {
      "cell_type": "code",
      "execution_count": null,
      "metadata": {
        "id": "X760zkvgthjT"
      },
      "outputs": [],
      "source": [
        "X_train, X_test, y_train, y_test = train_test_split(X,y, test_size=0.2, random_state=0)"
      ]
    },
    {
      "cell_type": "code",
      "execution_count": null,
      "metadata": {
        "id": "nk_Khzk4thjT",
        "outputId": "5abdada2-63a4-440a-aab4-283746e17faf"
      },
      "outputs": [
        {
          "name": "stdout",
          "output_type": "stream",
          "text": [
            "X_train.shape:  (7, 5)\n",
            "X_test.shape:   (2, 5)\n",
            "y_train.shape:  (7,)\n",
            "y_test.shape:   (2,)\n"
          ]
        }
      ],
      "source": [
        "print('X_train.shape: ', X_train.shape)\n",
        "print('X_test.shape:  ', X_test.shape)\n",
        "print('y_train.shape: ', y_train.shape)\n",
        "print('y_test.shape:  ', y_test.shape)\n"
      ]
    },
    {
      "cell_type": "code",
      "execution_count": null,
      "metadata": {
        "id": "uMXwr_pethjU"
      },
      "outputs": [],
      "source": []
    },
    {
      "cell_type": "code",
      "execution_count": null,
      "metadata": {
        "id": "VZrrNlajthjU"
      },
      "outputs": [],
      "source": []
    },
    {
      "cell_type": "code",
      "execution_count": null,
      "metadata": {
        "id": "tT03T2PWthjU"
      },
      "outputs": [],
      "source": []
    },
    {
      "cell_type": "code",
      "execution_count": null,
      "metadata": {
        "id": "YtaNLfACthjU"
      },
      "outputs": [],
      "source": []
    },
    {
      "cell_type": "code",
      "execution_count": null,
      "metadata": {
        "id": "5Wb4gdbuthjU"
      },
      "outputs": [],
      "source": []
    }
  ],
  "metadata": {
    "kernelspec": {
      "display_name": "Python 3",
      "language": "python",
      "name": "python3"
    },
    "language_info": {
      "codemirror_mode": {
        "name": "ipython",
        "version": 3
      },
      "file_extension": ".py",
      "mimetype": "text/x-python",
      "name": "python",
      "nbconvert_exporter": "python",
      "pygments_lexer": "ipython3",
      "version": "3.8.0"
    },
    "colab": {
      "provenance": [],
      "include_colab_link": true
    }
  },
  "nbformat": 4,
  "nbformat_minor": 0
}