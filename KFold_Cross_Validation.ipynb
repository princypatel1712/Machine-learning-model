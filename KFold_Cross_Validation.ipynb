{
  "cells": [
    {
      "cell_type": "markdown",
      "metadata": {
        "id": "view-in-github",
        "colab_type": "text"
      },
      "source": [
        "<a href=\"https://colab.research.google.com/github/princypatel1712/Machine-learning-model/blob/main/KFold_Cross_Validation.ipynb\" target=\"_parent\"><img src=\"https://colab.research.google.com/assets/colab-badge.svg\" alt=\"Open In Colab\"/></a>"
      ]
    },
    {
      "cell_type": "code",
      "execution_count": null,
      "id": "informative-parallel",
      "metadata": {
        "id": "informative-parallel"
      },
      "outputs": [],
      "source": [
        "from sklearn.linear_model import LogisticRegression\n",
        "from sklearn.svm import SVC"
      ]
    },
    {
      "cell_type": "code",
      "execution_count": null,
      "id": "stock-inflation",
      "metadata": {
        "id": "stock-inflation"
      },
      "outputs": [],
      "source": [
        "from sklearn.datasets import load_digits\n",
        "digits = load_digits()"
      ]
    },
    {
      "cell_type": "code",
      "execution_count": null,
      "id": "tracked-looking",
      "metadata": {
        "id": "tracked-looking"
      },
      "outputs": [],
      "source": [
        "from sklearn.model_selection import train_test_split\n",
        "X_train,X_test,y_train,y_test = train_test_split(digits.data,digits.target,test_size=0.3)"
      ]
    },
    {
      "cell_type": "code",
      "execution_count": null,
      "id": "british-chicken",
      "metadata": {
        "colab": {
          "base_uri": "https://localhost:8080/"
        },
        "id": "british-chicken",
        "outputId": "90b74ab3-c328-4f29-8f7f-75112219b2c6"
      },
      "outputs": [
        {
          "output_type": "execute_result",
          "data": {
            "text/plain": [
              "0.9648148148148148"
            ]
          },
          "metadata": {},
          "execution_count": 4
        }
      ],
      "source": [
        "lr = LogisticRegression(max_iter=10000)\n",
        "lr.fit(X_train,y_train)\n",
        "lr.score(X_test,y_test)"
      ]
    },
    {
      "cell_type": "code",
      "execution_count": null,
      "id": "found-exemption",
      "metadata": {
        "colab": {
          "base_uri": "https://localhost:8080/"
        },
        "id": "found-exemption",
        "outputId": "8402d2fe-d002-4419-82ed-266363d54603"
      },
      "outputs": [
        {
          "output_type": "execute_result",
          "data": {
            "text/plain": [
              "0.44074074074074077"
            ]
          },
          "metadata": {},
          "execution_count": 5
        }
      ],
      "source": [
        "svm = SVC(gamma='auto')\n",
        "svm.fit(X_train,y_train)\n",
        "svm.score(X_test,y_test)"
      ]
    },
    {
      "cell_type": "code",
      "execution_count": null,
      "id": "utility-shift",
      "metadata": {
        "id": "utility-shift"
      },
      "outputs": [],
      "source": [
        "from sklearn.model_selection import KFold\n",
        "kf = KFold(n_splits=3)\n"
      ]
    },
    {
      "cell_type": "code",
      "execution_count": null,
      "id": "oriental-updating",
      "metadata": {
        "colab": {
          "base_uri": "https://localhost:8080/"
        },
        "id": "oriental-updating",
        "outputId": "ae2505a0-ec9b-4fb1-f7d1-538e3423a36c"
      },
      "outputs": [
        {
          "output_type": "stream",
          "name": "stdout",
          "text": [
            "[3 4 5 6 7 8] [0 1 2]\n",
            "[0 1 2 6 7 8] [3 4 5]\n",
            "[0 1 2 3 4 5] [6 7 8]\n"
          ]
        }
      ],
      "source": [
        "for train_index,test_index in kf.split([1,2,3,4,5,6,7,8,9]):\n",
        "    print(train_index,test_index)"
      ]
    },
    {
      "cell_type": "code",
      "execution_count": null,
      "id": "authorized-stranger",
      "metadata": {
        "id": "authorized-stranger"
      },
      "outputs": [],
      "source": [
        "from sklearn.model_selection import StratifiedKFold\n",
        "kf = StratifiedKFold(n_splits=3)"
      ]
    },
    {
      "cell_type": "code",
      "execution_count": null,
      "id": "ideal-lodging",
      "metadata": {
        "id": "ideal-lodging"
      },
      "outputs": [],
      "source": [
        "lr_score = []\n",
        "svc_score = []\n",
        "for train_index,test_index in kf.split(digits.data,digits.target):\n",
        "    X_train,X_test,y_train,y_test = digits.data[train_index],digits.data[test_index],\\\n",
        "                                    digits.target[train_index],digits.target[test_index]\n",
        "    lr.fit(X_train,y_train)\n",
        "    lr_score.append(lr.score(X_test,y_test))\n",
        "\n",
        "    svm.fit(X_train,y_train)\n",
        "    svc_score.append(svm.score(X_test,y_test))"
      ]
    },
    {
      "cell_type": "code",
      "execution_count": null,
      "id": "piano-flash",
      "metadata": {
        "colab": {
          "base_uri": "https://localhost:8080/"
        },
        "id": "piano-flash",
        "outputId": "7965d656-e0dc-4a80-cf9c-7f5014e4d6d9"
      },
      "outputs": [
        {
          "output_type": "execute_result",
          "data": {
            "text/plain": [
              "[0.9248747913188647, 0.9398998330550918, 0.9232053422370617]"
            ]
          },
          "metadata": {},
          "execution_count": 10
        }
      ],
      "source": [
        "lr_score"
      ]
    },
    {
      "cell_type": "code",
      "execution_count": null,
      "id": "multiple-smoke",
      "metadata": {
        "colab": {
          "base_uri": "https://localhost:8080/"
        },
        "id": "multiple-smoke",
        "outputId": "6861b9e4-2e9c-4226-8839-65eb9d28a5e3"
      },
      "outputs": [
        {
          "output_type": "execute_result",
          "data": {
            "text/plain": [
              "[0.3806343906510851, 0.41068447412353926, 0.5125208681135225]"
            ]
          },
          "metadata": {},
          "execution_count": 11
        }
      ],
      "source": [
        "svc_score"
      ]
    },
    {
      "cell_type": "code",
      "execution_count": null,
      "id": "regional-binding",
      "metadata": {
        "id": "regional-binding"
      },
      "outputs": [],
      "source": [
        "from sklearn.model_selection import cross_val_score"
      ]
    },
    {
      "cell_type": "code",
      "execution_count": null,
      "id": "progressive-translation",
      "metadata": {
        "colab": {
          "base_uri": "https://localhost:8080/"
        },
        "id": "progressive-translation",
        "outputId": "7461d1d9-2e65-412b-b5c3-f5490d86f94f"
      },
      "outputs": [
        {
          "output_type": "execute_result",
          "data": {
            "text/plain": [
              "array([0.92222222, 0.875     , 0.93871866, 0.93314763, 0.89693593])"
            ]
          },
          "metadata": {},
          "execution_count": 13
        }
      ],
      "source": [
        "cross_val_score(LogisticRegression(max_iter=5000),digits.data,digits.target,cv=5)"
      ]
    },
    {
      "cell_type": "code",
      "execution_count": null,
      "id": "beneficial-category",
      "metadata": {
        "colab": {
          "base_uri": "https://localhost:8080/"
        },
        "id": "beneficial-category",
        "outputId": "5e8b03f1-51f0-4061-89a3-bb801c74efee"
      },
      "outputs": [
        {
          "output_type": "execute_result",
          "data": {
            "text/plain": [
              "array([0.41111111, 0.45      , 0.454039  , 0.44846797, 0.47910864])"
            ]
          },
          "metadata": {},
          "execution_count": 14
        }
      ],
      "source": [
        "cross_val_score(SVC(gamma='auto'),digits.data,digits.target,cv=5)"
      ]
    },
    {
      "cell_type": "code",
      "execution_count": null,
      "id": "second-niger",
      "metadata": {
        "id": "second-niger"
      },
      "outputs": [],
      "source": [
        "#IRIS\n",
        "#logistic\n",
        "#SVm\n",
        "#KNN\n"
      ]
    }
  ],
  "metadata": {
    "kernelspec": {
      "display_name": "Python 3",
      "language": "python",
      "name": "python3"
    },
    "language_info": {
      "codemirror_mode": {
        "name": "ipython",
        "version": 3
      },
      "file_extension": ".py",
      "mimetype": "text/x-python",
      "name": "python",
      "nbconvert_exporter": "python",
      "pygments_lexer": "ipython3",
      "version": "3.8.0"
    },
    "colab": {
      "provenance": [],
      "include_colab_link": true
    }
  },
  "nbformat": 4,
  "nbformat_minor": 5
}