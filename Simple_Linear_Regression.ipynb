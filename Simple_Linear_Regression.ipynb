{
  "cells": [
    {
      "cell_type": "markdown",
      "metadata": {
        "id": "view-in-github",
        "colab_type": "text"
      },
      "source": [
        "<a href=\"https://colab.research.google.com/github/princypatel1712/Machine-learning-model/blob/main/Simple_Linear_Regression.ipynb\" target=\"_parent\"><img src=\"https://colab.research.google.com/assets/colab-badge.svg\" alt=\"Open In Colab\"/></a>"
      ]
    },
    {
      "cell_type": "code",
      "execution_count": null,
      "id": "lined-keeping",
      "metadata": {
        "id": "lined-keeping"
      },
      "outputs": [],
      "source": [
        "import pandas as pd\n",
        "import numpy as np\n",
        "from sklearn import linear_model\n",
        "\n",
        "#any file can be treated as module\n",
        "#inbuilt\n",
        "#package\n",
        "\n"
      ]
    },
    {
      "cell_type": "code",
      "execution_count": null,
      "id": "handled-transcription",
      "metadata": {
        "id": "handled-transcription"
      },
      "outputs": [],
      "source": [
        "y=m1x1+m2x2+m3x3....+c\n",
        "#hyper parameter tuning\n",
        "\n",
        "#overfitting -"
      ]
    },
    {
      "cell_type": "code",
      "execution_count": null,
      "id": "funny-increase",
      "metadata": {
        "id": "funny-increase",
        "outputId": "97e66bd7-929e-4069-b006-be37bb691635"
      },
      "outputs": [
        {
          "data": {
            "text/plain": [
              "array([167.30954677])"
            ]
          },
          "execution_count": 5,
          "metadata": {},
          "output_type": "execute_result"
        }
      ],
      "source": [
        "mymodel.coef_"
      ]
    },
    {
      "cell_type": "code",
      "execution_count": null,
      "id": "reported-worcester",
      "metadata": {
        "id": "reported-worcester",
        "outputId": "1c32d917-0d19-428a-f69b-30a2b767e260"
      },
      "outputs": [
        {
          "data": {
            "text/plain": [
              "913240.1157207813"
            ]
          },
          "execution_count": 38,
          "metadata": {},
          "output_type": "execute_result"
        }
      ],
      "source": [
        "167.30954677*5000 + 76692.3818707813"
      ]
    },
    {
      "cell_type": "code",
      "execution_count": null,
      "id": "eastern-major",
      "metadata": {
        "id": "eastern-major"
      },
      "outputs": [],
      "source": [
        "from sklearn.metrics import mean_squared_error"
      ]
    },
    {
      "cell_type": "code",
      "execution_count": null,
      "id": "blank-theme",
      "metadata": {
        "id": "blank-theme",
        "outputId": "6fcf4f6b-4e5e-4078-a785-418abc805a24"
      },
      "outputs": [
        {
          "data": {
            "text/plain": [
              "13621.022179360036"
            ]
          },
          "execution_count": 45,
          "metadata": {},
          "output_type": "execute_result"
        }
      ],
      "source": [
        "mean_squared_error([565000],[578621.02217936],squared=False)"
      ]
    },
    {
      "cell_type": "code",
      "execution_count": null,
      "id": "described-purchase",
      "metadata": {
        "id": "described-purchase"
      },
      "outputs": [],
      "source": []
    }
  ],
  "metadata": {
    "colab": {
      "provenance": [],
      "include_colab_link": true
    },
    "kernelspec": {
      "display_name": "Python 3",
      "language": "python",
      "name": "python3"
    },
    "language_info": {
      "codemirror_mode": {
        "name": "ipython",
        "version": 3
      },
      "file_extension": ".py",
      "mimetype": "text/x-python",
      "name": "python",
      "nbconvert_exporter": "python",
      "pygments_lexer": "ipython3",
      "version": "3.8.0"
    }
  },
  "nbformat": 4,
  "nbformat_minor": 5
}